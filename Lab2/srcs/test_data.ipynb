{
 "cells": [
  {
   "cell_type": "code",
   "execution_count": 1,
   "id": "e0689691",
   "metadata": {},
   "outputs": [
    {
     "name": "stdout",
     "output_type": "stream",
     "text": [
      "加载数据集\n"
     ]
    },
    {
     "name": "stderr",
     "output_type": "stream",
     "text": [
      "[nltk_data] Downloading package punkt to\n",
      "[nltk_data]     C:\\Users\\ASUS\\AppData\\Roaming\\nltk_data...\n",
      "[nltk_data]   Package punkt is already up-to-date!\n",
      "[nltk_data] Downloading package punkt to\n",
      "[nltk_data]     C:\\Users\\ASUS\\AppData\\Roaming\\nltk_data...\n",
      "[nltk_data]   Package punkt is already up-to-date!\n"
     ]
    }
   ],
   "source": [
    "from inference import infer\n",
    "from visualize import visualize_attention\n",
    "from model import AttentionRNN\n",
    "import torch\n",
    "from preprocess import preprocess_data\n",
    "from config import Config as CFG\n",
    "from train import train_model\n",
    "# 读取并处理数据\n",
    "print(\"加载数据集\")\n",
    "train_loader, test_loader, vocab, word2idx, idx2word = preprocess_data()\n",
    "vocab_size = len(vocab)\n"
   ]
  },
  {
   "cell_type": "code",
   "execution_count": 4,
   "id": "1f2dba4e",
   "metadata": {},
   "outputs": [],
   "source": [
    "# 检查每个序列的长度，特别是长度为0的序列\n",
    "for batch in train_loader:\n",
    "    padded_seqs, seq_lengths, labels = batch\n",
    "    for i, length in enumerate(seq_lengths):\n",
    "        if length.item() == 0:\n",
    "            print(f\"发现长度为0的序列，索引: {i}, 序列: {padded_seqs[i]}\")\n",
    "        # else:\n",
    "        #     print(length)\n",
    "\n",
    "\n"
   ]
  },
  {
   "cell_type": "code",
   "execution_count": null,
   "id": "2fcafe09",
   "metadata": {},
   "outputs": [],
   "source": []
  }
 ],
 "metadata": {
  "kernelspec": {
   "display_name": "nlpLab1",
   "language": "python",
   "name": "python3"
  },
  "language_info": {
   "codemirror_mode": {
    "name": "ipython",
    "version": 3
   },
   "file_extension": ".py",
   "mimetype": "text/x-python",
   "name": "python",
   "nbconvert_exporter": "python",
   "pygments_lexer": "ipython3",
   "version": "3.12.9"
  }
 },
 "nbformat": 4,
 "nbformat_minor": 5
}
